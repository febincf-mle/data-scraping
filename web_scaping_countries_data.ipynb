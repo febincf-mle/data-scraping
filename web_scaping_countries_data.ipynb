{
  "nbformat": 4,
  "nbformat_minor": 0,
  "metadata": {
    "colab": {
      "provenance": []
    },
    "kernelspec": {
      "name": "python3",
      "display_name": "Python 3"
    },
    "language_info": {
      "name": "python"
    }
  },
  "cells": [
    {
      "cell_type": "code",
      "source": [
        "!pip install httpx --quiet"
      ],
      "metadata": {
        "id": "3NiZmpfjfe-f"
      },
      "execution_count": null,
      "outputs": []
    },
    {
      "cell_type": "markdown",
      "source": [
        "# Simple Web scraping project"
      ],
      "metadata": {
        "id": "-VTgxGQYdBq7"
      }
    },
    {
      "cell_type": "markdown",
      "source": [
        "We are going to scrape the data of Countries and their capitals from the website [catking](https://catking.in/list-of-countries-capitals-currencies-of-the-world). This will be an easy and beginner friendly Web scaping project."
      ],
      "metadata": {
        "id": "0VMpdsfVeb-P"
      }
    },
    {
      "cell_type": "code",
      "source": [
        "# installing required packages\n",
        "import pandas as pd\n",
        "from bs4 import BeautifulSoup\n",
        "import httpx\n",
        "import requests"
      ],
      "metadata": {
        "id": "5QGoN3rAe5Cc"
      },
      "execution_count": 24,
      "outputs": []
    },
    {
      "cell_type": "code",
      "source": [
        "url = 'https://catking.in/list-of-countries-capitals-currencies-of-the-world'\n",
        "response = requests.get(url)"
      ],
      "metadata": {
        "id": "7KmyX6sufo_Q"
      },
      "execution_count": 25,
      "outputs": []
    },
    {
      "cell_type": "code",
      "source": [
        "# Parsing using beutifulsoup to extract data\n",
        "soup = BeautifulSoup(response.content, 'html.parser')\n",
        "data_table = soup.find('table')"
      ],
      "metadata": {
        "id": "MNoda8gLiZcA"
      },
      "execution_count": null,
      "outputs": []
    },
    {
      "cell_type": "code",
      "source": [
        "def create_csv_data(data_table):\n",
        "\n",
        "  # create a list to get all the data\n",
        "  countries_data = []\n",
        "\n",
        "  # The data about the countries and their capitals is found in the <tr> tags\n",
        "  entries = data_table.findAll('tr')\n",
        "\n",
        "  for entry in entries[1: ]:\n",
        "    # each entry is a <tr> and we have to get the <td> inside it\n",
        "    children = list(entry.findAll('td'))\n",
        "\n",
        "    countries_data.append({\n",
        "        \"Sr. No\": children[0].text.strip(),\n",
        "        \"Country\": children[1].text.strip(),\n",
        "        \"Capital\": children[2].text.strip(),\n",
        "        \"Currency\": children[3].text.strip()\n",
        "    })\n",
        "\n",
        "  return countries_data"
      ],
      "metadata": {
        "id": "u5W5CVd1ivji"
      },
      "execution_count": 58,
      "outputs": []
    },
    {
      "cell_type": "code",
      "source": [
        "def create_csv_file(data_table):\n",
        "  # create the data.\n",
        "  countries_data = create_csv_data(data_table)\n",
        "\n",
        "  # create a csv file from the data\n",
        "  pd.DataFrame(countries_data).to_csv('countries_data.csv', index=False)\n",
        "\n",
        "  return True"
      ],
      "metadata": {
        "id": "MfSs00p8lsjK"
      },
      "execution_count": 62,
      "outputs": []
    },
    {
      "cell_type": "code",
      "source": [
        "create_csv_file(data_table)"
      ],
      "metadata": {
        "colab": {
          "base_uri": "https://localhost:8080/"
        },
        "id": "6M7hiOZSnTI-",
        "outputId": "6c77b6f7-4700-48cb-d276-7b5836559efd"
      },
      "execution_count": 63,
      "outputs": [
        {
          "output_type": "execute_result",
          "data": {
            "text/plain": [
              "True"
            ]
          },
          "metadata": {},
          "execution_count": 63
        }
      ]
    }
  ]
}